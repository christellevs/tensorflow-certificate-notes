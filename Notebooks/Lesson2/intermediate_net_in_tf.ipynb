{
 "cells": [
  {
   "cell_type": "code",
   "execution_count": 1,
   "metadata": {},
   "outputs": [],
   "source": [
    "import tensorflow\n",
    "\n",
    "from tensorflow.keras.datasets import mnist\n",
    "from tensorflow.keras.utils import to_categorical\n",
    "from tensorflow.keras.models import Sequential\n",
    "from tensorflow.keras.layers import Dense\n",
    "from tensorflow.keras.optimizers import SGD\n",
    "from matplotlib import pyplot as plt"
   ]
  },
  {
   "cell_type": "code",
   "execution_count": 2,
   "metadata": {},
   "outputs": [],
   "source": [
    "(X_train, y_train), (X_valid, y_valid) = mnist.load_data()"
   ]
  },
  {
   "cell_type": "code",
   "execution_count": 3,
   "metadata": {},
   "outputs": [],
   "source": [
    "# Preprocess data\n",
    "\n",
    "X_train = X_train.reshape(60000, 784).astype('float32')\n",
    "X_valid = X_valid.reshape(10000, 784).astype('float32')"
   ]
  },
  {
   "cell_type": "code",
   "execution_count": 4,
   "metadata": {},
   "outputs": [],
   "source": [
    "X_train /= 255\n",
    "X_valid /= 255"
   ]
  },
  {
   "cell_type": "code",
   "execution_count": 5,
   "metadata": {},
   "outputs": [],
   "source": [
    "# one-hot encoding training labels\n",
    "n_classes = 10\n",
    "y_train = to_categorical(y_train, n_classes)\n",
    "y_valid = to_categorical(y_valid, n_classes)"
   ]
  },
  {
   "cell_type": "code",
   "execution_count": 7,
   "metadata": {},
   "outputs": [],
   "source": [
    "# Design neural net architecture\n",
    "\n",
    "model = Sequential()\n",
    "\n",
    "# hidden layers\n",
    "model.add(Dense(64, activation='relu', input_shape=(784,)))\n",
    "model.add(Dense(64, activation='relu'))\n",
    "\n",
    "# output layer\n",
    "model.add(Dense(10, activation='softmax'))\n"
   ]
  },
  {
   "cell_type": "code",
   "execution_count": 8,
   "metadata": {
    "tags": []
   },
   "outputs": [
    {
     "output_type": "stream",
     "name": "stdout",
     "text": "Model: \"sequential_1\"\n_________________________________________________________________\nLayer (type)                 Output Shape              Param #   \n=================================================================\ndense_2 (Dense)              (None, 64)                50240     \n_________________________________________________________________\ndense_3 (Dense)              (None, 64)                4160      \n_________________________________________________________________\ndense_4 (Dense)              (None, 10)                650       \n=================================================================\nTotal params: 55,050\nTrainable params: 55,050\nNon-trainable params: 0\n_________________________________________________________________\n"
    }
   ],
   "source": [
    "model.summary()"
   ]
  },
  {
   "cell_type": "code",
   "execution_count": 9,
   "metadata": {},
   "outputs": [],
   "source": [
    "# Compile model\n",
    "\n",
    "model.compile(loss='categorical_crossentropy', optimizer=SGD(lr=0.1), metrics='accuracy')"
   ]
  },
  {
   "cell_type": "code",
   "execution_count": 10,
   "metadata": {
    "tags": []
   },
   "outputs": [
    {
     "output_type": "stream",
     "name": "stdout",
     "text": "Epoch 1/20\n469/469 [==============================] - 3s 6ms/step - loss: 0.4723 - accuracy: 0.8655 - val_loss: 0.2526 - val_accuracy: 0.9258\nEpoch 2/20\n469/469 [==============================] - 3s 6ms/step - loss: 0.2272 - accuracy: 0.9335 - val_loss: 0.1877 - val_accuracy: 0.9432\nEpoch 3/20\n469/469 [==============================] - 3s 6ms/step - loss: 0.1749 - accuracy: 0.9491 - val_loss: 0.1578 - val_accuracy: 0.9532\nEpoch 4/20\n469/469 [==============================] - 3s 6ms/step - loss: 0.1419 - accuracy: 0.9585 - val_loss: 0.1392 - val_accuracy: 0.9556\nEpoch 5/20\n469/469 [==============================] - 2s 5ms/step - loss: 0.1222 - accuracy: 0.9643 - val_loss: 0.1306 - val_accuracy: 0.9581\nEpoch 6/20\n469/469 [==============================] - 3s 6ms/step - loss: 0.1063 - accuracy: 0.9688 - val_loss: 0.1162 - val_accuracy: 0.9648\nEpoch 7/20\n469/469 [==============================] - 3s 5ms/step - loss: 0.0934 - accuracy: 0.9725 - val_loss: 0.1033 - val_accuracy: 0.9659\nEpoch 8/20\n469/469 [==============================] - 2s 5ms/step - loss: 0.0846 - accuracy: 0.9750 - val_loss: 0.1049 - val_accuracy: 0.9652\nEpoch 9/20\n469/469 [==============================] - 2s 5ms/step - loss: 0.0767 - accuracy: 0.9775 - val_loss: 0.0977 - val_accuracy: 0.9706\nEpoch 10/20\n469/469 [==============================] - 2s 5ms/step - loss: 0.0694 - accuracy: 0.9791 - val_loss: 0.0935 - val_accuracy: 0.9705\nEpoch 11/20\n469/469 [==============================] - 3s 6ms/step - loss: 0.0646 - accuracy: 0.9808 - val_loss: 0.0923 - val_accuracy: 0.9716\nEpoch 12/20\n469/469 [==============================] - 2s 5ms/step - loss: 0.0584 - accuracy: 0.9826 - val_loss: 0.0879 - val_accuracy: 0.9732\nEpoch 13/20\n469/469 [==============================] - 3s 5ms/step - loss: 0.0537 - accuracy: 0.9845 - val_loss: 0.0858 - val_accuracy: 0.9728\nEpoch 14/20\n469/469 [==============================] - 2s 5ms/step - loss: 0.0494 - accuracy: 0.9852 - val_loss: 0.0878 - val_accuracy: 0.9728\nEpoch 15/20\n469/469 [==============================] - 2s 5ms/step - loss: 0.0461 - accuracy: 0.9862 - val_loss: 0.0830 - val_accuracy: 0.9744\nEpoch 16/20\n469/469 [==============================] - 2s 5ms/step - loss: 0.0428 - accuracy: 0.9876 - val_loss: 0.0896 - val_accuracy: 0.9732\nEpoch 17/20\n469/469 [==============================] - 3s 6ms/step - loss: 0.0394 - accuracy: 0.9885 - val_loss: 0.0863 - val_accuracy: 0.9742\nEpoch 18/20\n469/469 [==============================] - 3s 6ms/step - loss: 0.0370 - accuracy: 0.9894 - val_loss: 0.0843 - val_accuracy: 0.9749\nEpoch 19/20\n469/469 [==============================] - 3s 5ms/step - loss: 0.0339 - accuracy: 0.9903 - val_loss: 0.0861 - val_accuracy: 0.9750\nEpoch 20/20\n469/469 [==============================] - 2s 5ms/step - loss: 0.0310 - accuracy: 0.9912 - val_loss: 0.0857 - val_accuracy: 0.9756\n"
    },
    {
     "output_type": "execute_result",
     "data": {
      "text/plain": "<tensorflow.python.keras.callbacks.History at 0x293537e97c0>"
     },
     "metadata": {},
     "execution_count": 10
    }
   ],
   "source": [
    "model.fit(X_train, y_train, batch_size=128, epochs=20, verbose=1, validation_data=(X_valid, y_valid))"
   ]
  },
  {
   "cell_type": "code",
   "execution_count": 11,
   "metadata": {
    "tags": []
   },
   "outputs": [
    {
     "output_type": "stream",
     "name": "stdout",
     "text": "313/313 [==============================] - 1s 3ms/step - loss: 0.0857 - accuracy: 0.9756\n"
    },
    {
     "output_type": "execute_result",
     "data": {
      "text/plain": "[0.08565238118171692, 0.975600004196167]"
     },
     "metadata": {},
     "execution_count": 11
    }
   ],
   "source": [
    "model.evaluate(X_valid, y_valid)"
   ]
  },
  {
   "cell_type": "code",
   "execution_count": 12,
   "metadata": {},
   "outputs": [],
   "source": [
    "valid_0 = X_valid[0].reshape(1, 784)"
   ]
  },
  {
   "cell_type": "code",
   "execution_count": 13,
   "metadata": {},
   "outputs": [
    {
     "output_type": "execute_result",
     "data": {
      "text/plain": "array([[4.1281268e-07, 4.8344644e-09, 2.1399219e-06, 6.5654793e-05,\n        2.4896407e-10, 8.5352497e-08, 8.9131816e-13, 9.9993110e-01,\n        1.1177717e-08, 5.8701562e-07]], dtype=float32)"
     },
     "metadata": {},
     "execution_count": 13
    }
   ],
   "source": [
    "model.predict(valid_0)"
   ]
  },
  {
   "cell_type": "code",
   "execution_count": 14,
   "metadata": {
    "tags": []
   },
   "outputs": [
    {
     "output_type": "stream",
     "name": "stdout",
     "text": "WARNING:tensorflow:From <ipython-input-14-f7c492057c27>:1: Sequential.predict_classes (from tensorflow.python.keras.engine.sequential) is deprecated and will be removed after 2021-01-01.\nInstructions for updating:\nPlease use instead:* `np.argmax(model.predict(x), axis=-1)`,   if your model does multi-class classification   (e.g. if it uses a `softmax` last-layer activation).* `(model.predict(x) > 0.5).astype(\"int32\")`,   if your model does binary classification   (e.g. if it uses a `sigmoid` last-layer activation).\n"
    },
    {
     "output_type": "execute_result",
     "data": {
      "text/plain": "array([7], dtype=int64)"
     },
     "metadata": {},
     "execution_count": 14
    }
   ],
   "source": [
    "model.predict_classes(valid_0)"
   ]
  }
 ],
 "metadata": {
  "language_info": {
   "codemirror_mode": {
    "name": "ipython",
    "version": 3
   },
   "file_extension": ".py",
   "mimetype": "text/x-python",
   "name": "python",
   "nbconvert_exporter": "python",
   "pygments_lexer": "ipython3",
   "version": "3.8.3-final"
  },
  "orig_nbformat": 2,
  "kernelspec": {
   "name": "python38364bitc8778b5367444c3b9b18e1e94c77143f",
   "display_name": "Python 3.8.3 64-bit"
  }
 },
 "nbformat": 4,
 "nbformat_minor": 2
}