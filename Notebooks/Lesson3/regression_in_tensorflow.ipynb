{
 "cells": [
  {
   "cell_type": "code",
   "execution_count": 50,
   "metadata": {},
   "outputs": [],
   "source": [
    "# regression example in tensorflow\n",
    "\n",
    "# predicting house prices in Boston, Massachussetts"
   ]
  },
  {
   "cell_type": "code",
   "execution_count": 51,
   "metadata": {},
   "outputs": [],
   "source": [
    "import tensorflow\n",
    "\n",
    "from tensorflow.keras.datasets import boston_housing\n",
    "from tensorflow.keras.models import Sequential\n",
    "from tensorflow.keras.layers import Dense, Dropout, BatchNormalization\n",
    "from tensorflow.keras.callbacks import ModelCheckpoint\n",
    "from tensorflow.keras.callbacks import TensorBoard\n",
    "\n",
    "import numpy as np\n",
    "import os"
   ]
  },
  {
   "cell_type": "code",
   "execution_count": 52,
   "metadata": {
    "tags": []
   },
   "outputs": [],
   "source": [
    "# loading data\n",
    "\n",
    "(X_train, y_train), (X_valid, y_valid) = boston_housing.load_data()"
   ]
  },
  {
   "cell_type": "code",
   "execution_count": 53,
   "metadata": {},
   "outputs": [
    {
     "output_type": "execute_result",
     "data": {
      "text/plain": "(404, 13)"
     },
     "metadata": {},
     "execution_count": 53
    }
   ],
   "source": [
    "X_train.shape"
   ]
  },
  {
   "cell_type": "code",
   "execution_count": 54,
   "metadata": {},
   "outputs": [
    {
     "output_type": "execute_result",
     "data": {
      "text/plain": "(102, 13)"
     },
     "metadata": {},
     "execution_count": 54
    }
   ],
   "source": [
    "X_valid.shape"
   ]
  },
  {
   "cell_type": "code",
   "execution_count": 55,
   "metadata": {},
   "outputs": [
    {
     "output_type": "execute_result",
     "data": {
      "text/plain": "array([  1.23247,   0.     ,   8.14   ,   0.     ,   0.538  ,   6.142  ,\n        91.7    ,   3.9769 ,   4.     , 307.     ,  21.     , 396.9    ,\n        18.72   ])"
     },
     "metadata": {},
     "execution_count": 55
    }
   ],
   "source": [
    "X_train[0]"
   ]
  },
  {
   "cell_type": "code",
   "execution_count": 56,
   "metadata": {},
   "outputs": [
    {
     "output_type": "execute_result",
     "data": {
      "text/plain": "15.2"
     },
     "metadata": {},
     "execution_count": 56
    }
   ],
   "source": [
    "y_train[0]"
   ]
  },
  {
   "cell_type": "code",
   "execution_count": 57,
   "metadata": {},
   "outputs": [],
   "source": [
    "# designing neural netwrok architecture\n",
    "\n",
    "model = Sequential()\n",
    "\n",
    "# 2 hidden layer architectre, 32 and 16 neurons per layer respectively\n",
    "\n",
    "# first hidden layer\n",
    "model.add(Dense(32, input_dim=13, activation='relu'))\n",
    "model.add(BatchNormalization())\n",
    "\n",
    "# second hidden layer\n",
    "model.add(Dense(16, activation='relu'))\n",
    "model.add(BatchNormalization())\n",
    "model.add(Dropout(0.5))\n",
    "\n",
    "# output layer\n",
    "model.add(Dense(1, activation='linear'))"
   ]
  },
  {
   "cell_type": "code",
   "execution_count": 58,
   "metadata": {
    "tags": []
   },
   "outputs": [
    {
     "output_type": "stream",
     "name": "stdout",
     "text": "Model: \"sequential_3\"\n_________________________________________________________________\nLayer (type)                 Output Shape              Param #   \n=================================================================\ndense_9 (Dense)              (None, 32)                448       \n_________________________________________________________________\nbatch_normalization_6 (Batch (None, 32)                128       \n_________________________________________________________________\ndense_10 (Dense)             (None, 16)                528       \n_________________________________________________________________\nbatch_normalization_7 (Batch (None, 16)                64        \n_________________________________________________________________\ndropout_3 (Dropout)          (None, 16)                0         \n_________________________________________________________________\ndense_11 (Dense)             (None, 1)                 17        \n=================================================================\nTotal params: 1,185\nTrainable params: 1,089\nNon-trainable params: 96\n_________________________________________________________________\n"
    }
   ],
   "source": [
    "model.summary()"
   ]
  },
  {
   "cell_type": "code",
   "execution_count": 59,
   "metadata": {},
   "outputs": [],
   "source": [
    "# configuring model\n",
    "\n",
    "model.compile(loss='mean_squared_error', optimizer='nadam')"
   ]
  },
  {
   "cell_type": "code",
   "execution_count": 60,
   "metadata": {},
   "outputs": [],
   "source": [
    "output_dir = 'model_output/'"
   ]
  },
  {
   "cell_type": "code",
   "execution_count": 61,
   "metadata": {},
   "outputs": [],
   "source": [
    "run_name = 'regression_drop50'\n",
    "output_path = output_dir + run_name"
   ]
  },
  {
   "cell_type": "code",
   "execution_count": 62,
   "metadata": {},
   "outputs": [],
   "source": [
    "if not os.path.exists(output_path):\n",
    "    os.makedirs(output_path)"
   ]
  },
  {
   "cell_type": "code",
   "execution_count": 63,
   "metadata": {},
   "outputs": [],
   "source": [
    "modelcheckpoint = ModelCheckpoint(output_path + '/weights.{epoch:02d}.hdf5', save_weights_only=True)"
   ]
  },
  {
   "cell_type": "code",
   "execution_count": 64,
   "metadata": {},
   "outputs": [],
   "source": [
    "tensorboard = TensorBoard(log_dir='logs/' + run_name)"
   ]
  },
  {
   "cell_type": "code",
   "execution_count": 65,
   "metadata": {
    "tags": []
   },
   "outputs": [
    {
     "output_type": "stream",
     "name": "stdout",
     "text": "Epoch 1/32\n 2/51 [>.............................] - ETA: 1:02 - loss: 641.5308WARNING:tensorflow:Method (on_train_batch_end) is slow compared to the batch update (1.274403). Check your callbacks.\n51/51 [==============================] - 3s 59ms/step - loss: 584.8456 - val_loss: 673.8519\nEpoch 2/32\n51/51 [==============================] - 0s 6ms/step - loss: 569.7605 - val_loss: 653.7142\nEpoch 3/32\n51/51 [==============================] - 1s 14ms/step - loss: 548.2325 - val_loss: 616.1511\nEpoch 4/32\n51/51 [==============================] - 0s 5ms/step - loss: 535.7404 - val_loss: 570.6827\nEpoch 5/32\n51/51 [==============================] - 0s 5ms/step - loss: 511.2082 - val_loss: 511.2424\nEpoch 6/32\n51/51 [==============================] - 0s 6ms/step - loss: 496.3146 - val_loss: 480.6298\nEpoch 7/32\n51/51 [==============================] - 0s 6ms/step - loss: 467.9565 - val_loss: 418.8732\nEpoch 8/32\n51/51 [==============================] - 0s 6ms/step - loss: 438.9442 - val_loss: 381.4427\nEpoch 9/32\n51/51 [==============================] - 0s 5ms/step - loss: 419.4967 - val_loss: 388.9888\nEpoch 10/32\n51/51 [==============================] - 0s 5ms/step - loss: 391.2834 - val_loss: 356.4596\nEpoch 11/32\n51/51 [==============================] - 0s 6ms/step - loss: 372.0854 - val_loss: 316.5316\nEpoch 12/32\n51/51 [==============================] - 0s 5ms/step - loss: 331.2364 - val_loss: 272.3976\nEpoch 13/32\n51/51 [==============================] - 0s 4ms/step - loss: 307.3005 - val_loss: 260.7793\nEpoch 14/32\n51/51 [==============================] - 0s 5ms/step - loss: 273.7857 - val_loss: 241.6251\nEpoch 15/32\n51/51 [==============================] - 0s 5ms/step - loss: 235.9886 - val_loss: 235.7514\nEpoch 16/32\n51/51 [==============================] - 0s 5ms/step - loss: 195.1402 - val_loss: 221.7231\nEpoch 17/32\n51/51 [==============================] - 0s 7ms/step - loss: 180.5125 - val_loss: 192.9665\nEpoch 18/32\n51/51 [==============================] - 0s 6ms/step - loss: 168.2672 - val_loss: 162.2197\nEpoch 19/32\n51/51 [==============================] - 0s 5ms/step - loss: 146.6720 - val_loss: 129.5990\nEpoch 20/32\n51/51 [==============================] - 0s 6ms/step - loss: 124.8380 - val_loss: 116.4311\nEpoch 21/32\n51/51 [==============================] - 0s 5ms/step - loss: 115.4294 - val_loss: 133.8547\nEpoch 22/32\n51/51 [==============================] - 0s 5ms/step - loss: 101.1869 - val_loss: 180.2175\nEpoch 23/32\n51/51 [==============================] - 0s 4ms/step - loss: 104.3638 - val_loss: 126.9925\nEpoch 24/32\n51/51 [==============================] - 0s 6ms/step - loss: 98.1509 - val_loss: 73.4705\nEpoch 25/32\n51/51 [==============================] - 0s 5ms/step - loss: 85.1615 - val_loss: 136.4987\nEpoch 26/32\n51/51 [==============================] - 0s 5ms/step - loss: 101.5237 - val_loss: 89.7145\nEpoch 27/32\n51/51 [==============================] - 0s 5ms/step - loss: 88.4869 - val_loss: 44.5890\nEpoch 28/32\n51/51 [==============================] - 0s 5ms/step - loss: 83.5537 - val_loss: 50.5258\nEpoch 29/32\n51/51 [==============================] - 0s 6ms/step - loss: 79.6403 - val_loss: 50.1916\nEpoch 30/32\n51/51 [==============================] - 0s 4ms/step - loss: 74.7504 - val_loss: 36.4490\nEpoch 31/32\n51/51 [==============================] - 0s 5ms/step - loss: 72.3148 - val_loss: 47.1031\nEpoch 32/32\n51/51 [==============================] - 0s 5ms/step - loss: 71.0462 - val_loss: 80.9790\n"
    },
    {
     "output_type": "execute_result",
     "data": {
      "text/plain": "<tensorflow.python.keras.callbacks.History at 0x2eb3d25c850>"
     },
     "metadata": {},
     "execution_count": 65
    }
   ],
   "source": [
    "# training model\n",
    "\n",
    "model.fit(X_train, y_train,\n",
    "    batch_size=8, epochs=32, verbose=1,\n",
    "    validation_data=(X_valid, y_valid),\n",
    "    callbacks=[modelcheckpoint, tensorboard]) # val loss below 50 isgood, 40 great"
   ]
  },
  {
   "cell_type": "code",
   "execution_count": 66,
   "metadata": {},
   "outputs": [],
   "source": [
    "# performing inference\n",
    "\n",
    "model.load_weights(output_path + '/weights.29.hdf5')"
   ]
  },
  {
   "cell_type": "code",
   "execution_count": 67,
   "metadata": {},
   "outputs": [
    {
     "output_type": "execute_result",
     "data": {
      "text/plain": "array([  9.32909,   0.     ,  18.1    ,   0.     ,   0.713  ,   6.185  ,\n        98.7    ,   2.2616 ,  24.     , 666.     ,  20.2    , 396.9    ,\n        18.13   ])"
     },
     "metadata": {},
     "execution_count": 67
    }
   ],
   "source": [
    "X_valid[42]"
   ]
  },
  {
   "cell_type": "code",
   "execution_count": 68,
   "metadata": {},
   "outputs": [
    {
     "output_type": "execute_result",
     "data": {
      "text/plain": "14.1"
     },
     "metadata": {},
     "execution_count": 68
    }
   ],
   "source": [
    "y_valid[42]"
   ]
  },
  {
   "cell_type": "code",
   "execution_count": 69,
   "metadata": {},
   "outputs": [
    {
     "output_type": "execute_result",
     "data": {
      "text/plain": "array([[15.964156]], dtype=float32)"
     },
     "metadata": {},
     "execution_count": 69
    }
   ],
   "source": [
    "model.predict(np.reshape(X_valid[42], [1, 13]))"
   ]
  }
 ],
 "metadata": {
  "language_info": {
   "codemirror_mode": {
    "name": "ipython",
    "version": 3
   },
   "file_extension": ".py",
   "mimetype": "text/x-python",
   "name": "python",
   "nbconvert_exporter": "python",
   "pygments_lexer": "ipython3",
   "version": "3.8.3-final"
  },
  "orig_nbformat": 2,
  "kernelspec": {
   "name": "python38364bitc8778b5367444c3b9b18e1e94c77143f",
   "display_name": "Python 3.8.3 64-bit"
  }
 },
 "nbformat": 4,
 "nbformat_minor": 2
}