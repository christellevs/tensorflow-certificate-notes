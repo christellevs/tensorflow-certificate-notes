{
 "cells": [
  {
   "cell_type": "code",
   "execution_count": null,
   "metadata": {},
   "outputs": [],
   "source": [
    "# regression example in tensorflow\n",
    "\n",
    "# predicting house prices in Boston, Massachussetts"
   ]
  },
  {
   "cell_type": "code",
   "execution_count": 21,
   "metadata": {},
   "outputs": [],
   "source": [
    "import tensorflow\n",
    "\n",
    "from tensorflow.keras.datasets import boston_housing\n",
    "from tensorflow.keras.models import Sequential\n",
    "from tensorflow.keras.layers import Dense, Dropout, BatchNormalization\n",
    "from tensorflow.keras.callbacks import ModelCheckpoint\n",
    "\n",
    "import numpy as np\n",
    "import os"
   ]
  },
  {
   "cell_type": "code",
   "execution_count": 2,
   "metadata": {
    "tags": []
   },
   "outputs": [
    {
     "output_type": "stream",
     "name": "stdout",
     "text": "Downloading data from https://storage.googleapis.com/tensorflow/tf-keras-datasets/boston_housing.npz\n57344/57026 [==============================] - 0s 1us/step\n"
    }
   ],
   "source": [
    "# loading data\n",
    "\n",
    "(X_train, y_train), (X_valid, y_valid) = boston_housing.load_data()"
   ]
  },
  {
   "cell_type": "code",
   "execution_count": 3,
   "metadata": {},
   "outputs": [
    {
     "output_type": "execute_result",
     "data": {
      "text/plain": "(404, 13)"
     },
     "metadata": {},
     "execution_count": 3
    }
   ],
   "source": [
    "X_train.shape"
   ]
  },
  {
   "cell_type": "code",
   "execution_count": 4,
   "metadata": {},
   "outputs": [
    {
     "output_type": "execute_result",
     "data": {
      "text/plain": "(102, 13)"
     },
     "metadata": {},
     "execution_count": 4
    }
   ],
   "source": [
    "X_valid.shape"
   ]
  },
  {
   "cell_type": "code",
   "execution_count": 5,
   "metadata": {},
   "outputs": [
    {
     "output_type": "execute_result",
     "data": {
      "text/plain": "array([  1.23247,   0.     ,   8.14   ,   0.     ,   0.538  ,   6.142  ,\n        91.7    ,   3.9769 ,   4.     , 307.     ,  21.     , 396.9    ,\n        18.72   ])"
     },
     "metadata": {},
     "execution_count": 5
    }
   ],
   "source": [
    "X_train[0]"
   ]
  },
  {
   "cell_type": "code",
   "execution_count": 6,
   "metadata": {},
   "outputs": [
    {
     "output_type": "execute_result",
     "data": {
      "text/plain": "15.2"
     },
     "metadata": {},
     "execution_count": 6
    }
   ],
   "source": [
    "y_train[0]"
   ]
  },
  {
   "cell_type": "code",
   "execution_count": 7,
   "metadata": {},
   "outputs": [],
   "source": [
    "# designing neural netwrok architecture\n",
    "\n",
    "model = Sequential()\n",
    "\n",
    "# 2 hidden layer architectre, 32 and 16 neurons per layer respectively\n",
    "\n",
    "# first hidden layer\n",
    "model.add(Dense(32, input_dim=13, activation='relu'))\n",
    "model.add(BatchNormalization())\n",
    "\n",
    "# second hidden layer\n",
    "model.add(Dense(16, activation='relu'))\n",
    "model.add(BatchNormalization())\n",
    "model.add(Dropout(0.2))\n",
    "\n",
    "# output layer\n",
    "model.add(Dense(1, activation='linear'))"
   ]
  },
  {
   "cell_type": "code",
   "execution_count": 8,
   "metadata": {
    "tags": []
   },
   "outputs": [
    {
     "output_type": "stream",
     "name": "stdout",
     "text": "Model: \"sequential\"\n_________________________________________________________________\nLayer (type)                 Output Shape              Param #   \n=================================================================\ndense (Dense)                (None, 32)                448       \n_________________________________________________________________\nbatch_normalization (BatchNo (None, 32)                128       \n_________________________________________________________________\ndense_1 (Dense)              (None, 16)                528       \n_________________________________________________________________\nbatch_normalization_1 (Batch (None, 16)                64        \n_________________________________________________________________\ndropout (Dropout)            (None, 16)                0         \n_________________________________________________________________\ndense_2 (Dense)              (None, 1)                 17        \n=================================================================\nTotal params: 1,185\nTrainable params: 1,089\nNon-trainable params: 96\n_________________________________________________________________\n"
    }
   ],
   "source": [
    "model.summary()"
   ]
  },
  {
   "cell_type": "code",
   "execution_count": 9,
   "metadata": {},
   "outputs": [],
   "source": [
    "# configuring model\n",
    "\n",
    "model.compile(loss='mean_squared_error', optimizer='nadam')"
   ]
  },
  {
   "cell_type": "code",
   "execution_count": 10,
   "metadata": {},
   "outputs": [],
   "source": [
    "output_dir = 'model_output/'"
   ]
  },
  {
   "cell_type": "code",
   "execution_count": 11,
   "metadata": {},
   "outputs": [],
   "source": [
    "run_name = 'regression_baseline'\n",
    "output_path = output_dir + run_name"
   ]
  },
  {
   "cell_type": "code",
   "execution_count": 12,
   "metadata": {},
   "outputs": [],
   "source": [
    "if not os.path.exists(output_path):\n",
    "    os.makedirs(output_path)"
   ]
  },
  {
   "cell_type": "code",
   "execution_count": 13,
   "metadata": {},
   "outputs": [],
   "source": [
    "modelcheckpoint = ModelCheckpoint(output_path + '/weights.{epoch:02d}.hdf5', save_weights_only=True)"
   ]
  },
  {
   "cell_type": "code",
   "execution_count": 14,
   "metadata": {
    "tags": []
   },
   "outputs": [
    {
     "output_type": "stream",
     "name": "stdout",
     "text": "Epoch 1/32\n51/51 [==============================] - 1s 12ms/step - loss: 572.8239 - val_loss: 685.3602\nEpoch 2/32\n51/51 [==============================] - 0s 7ms/step - loss: 557.3744 - val_loss: 644.0165\nEpoch 3/32\n51/51 [==============================] - 0s 5ms/step - loss: 537.6340 - val_loss: 604.4788\nEpoch 4/32\n51/51 [==============================] - 0s 8ms/step - loss: 519.1701 - val_loss: 573.1204\nEpoch 5/32\n51/51 [==============================] - 0s 7ms/step - loss: 492.9134 - val_loss: 534.3193\nEpoch 6/32\n51/51 [==============================] - 0s 7ms/step - loss: 465.7969 - val_loss: 485.2360\nEpoch 7/32\n51/51 [==============================] - 0s 5ms/step - loss: 436.6299 - val_loss: 453.1567\nEpoch 8/32\n51/51 [==============================] - 0s 5ms/step - loss: 405.9468 - val_loss: 426.8734\nEpoch 9/32\n51/51 [==============================] - 0s 6ms/step - loss: 361.3004 - val_loss: 392.9182\nEpoch 10/32\n51/51 [==============================] - 0s 4ms/step - loss: 325.8438 - val_loss: 335.3235\nEpoch 11/32\n51/51 [==============================] - 0s 4ms/step - loss: 290.1829 - val_loss: 303.6120\nEpoch 12/32\n51/51 [==============================] - 0s 6ms/step - loss: 244.7807 - val_loss: 300.9639\nEpoch 13/32\n51/51 [==============================] - 0s 6ms/step - loss: 209.7524 - val_loss: 246.4760\nEpoch 14/32\n51/51 [==============================] - 0s 5ms/step - loss: 177.7078 - val_loss: 197.1579\nEpoch 15/32\n51/51 [==============================] - 0s 5ms/step - loss: 149.8056 - val_loss: 204.5660\nEpoch 16/32\n51/51 [==============================] - 0s 5ms/step - loss: 127.6582 - val_loss: 207.0045\nEpoch 17/32\n51/51 [==============================] - 0s 4ms/step - loss: 102.5257 - val_loss: 125.0716\nEpoch 18/32\n51/51 [==============================] - 0s 4ms/step - loss: 89.5326 - val_loss: 103.1900\nEpoch 19/32\n51/51 [==============================] - 0s 6ms/step - loss: 76.3805 - val_loss: 127.1297\nEpoch 20/32\n51/51 [==============================] - 0s 7ms/step - loss: 68.2912 - val_loss: 75.2115\nEpoch 21/32\n51/51 [==============================] - 0s 6ms/step - loss: 65.8988 - val_loss: 57.3987\nEpoch 22/32\n51/51 [==============================] - 0s 5ms/step - loss: 57.0720 - val_loss: 59.9066\nEpoch 23/32\n51/51 [==============================] - 0s 6ms/step - loss: 53.1447 - val_loss: 49.5044\nEpoch 24/32\n51/51 [==============================] - 0s 6ms/step - loss: 46.3194 - val_loss: 41.9111\nEpoch 25/32\n51/51 [==============================] - 0s 5ms/step - loss: 46.4778 - val_loss: 32.0145\nEpoch 26/32\n51/51 [==============================] - 0s 5ms/step - loss: 46.3323 - val_loss: 32.2496\nEpoch 27/32\n51/51 [==============================] - 0s 7ms/step - loss: 44.9138 - val_loss: 42.2106\nEpoch 28/32\n51/51 [==============================] - 0s 5ms/step - loss: 46.5293 - val_loss: 32.7842\nEpoch 29/32\n51/51 [==============================] - 0s 5ms/step - loss: 44.1878 - val_loss: 28.9907\nEpoch 30/32\n51/51 [==============================] - 0s 5ms/step - loss: 43.9676 - val_loss: 31.8863\nEpoch 31/32\n51/51 [==============================] - 0s 5ms/step - loss: 41.8507 - val_loss: 29.0600\nEpoch 32/32\n51/51 [==============================] - 0s 3ms/step - loss: 42.5807 - val_loss: 32.5715\n"
    },
    {
     "output_type": "execute_result",
     "data": {
      "text/plain": "<tensorflow.python.keras.callbacks.History at 0x2eb374f2fa0>"
     },
     "metadata": {},
     "execution_count": 14
    }
   ],
   "source": [
    "# training model\n",
    "\n",
    "model.fit(X_train, y_train,\n",
    "    batch_size=8, epochs=32, verbose=1,\n",
    "    validation_data=(X_valid, y_valid),\n",
    "    callbacks=[modelcheckpoint]) # val loss below 50 isgood, 40 great"
   ]
  },
  {
   "cell_type": "code",
   "execution_count": 16,
   "metadata": {},
   "outputs": [],
   "source": [
    "# performing inference\n",
    "\n",
    "model.load_weights(output_path + '/weights.29.hdf5')"
   ]
  },
  {
   "cell_type": "code",
   "execution_count": 17,
   "metadata": {},
   "outputs": [
    {
     "output_type": "execute_result",
     "data": {
      "text/plain": "array([  9.32909,   0.     ,  18.1    ,   0.     ,   0.713  ,   6.185  ,\n        98.7    ,   2.2616 ,  24.     , 666.     ,  20.2    , 396.9    ,\n        18.13   ])"
     },
     "metadata": {},
     "execution_count": 17
    }
   ],
   "source": [
    "X_valid[42]"
   ]
  },
  {
   "cell_type": "code",
   "execution_count": 18,
   "metadata": {},
   "outputs": [
    {
     "output_type": "execute_result",
     "data": {
      "text/plain": "14.1"
     },
     "metadata": {},
     "execution_count": 18
    }
   ],
   "source": [
    "y_valid[42]"
   ]
  },
  {
   "cell_type": "code",
   "execution_count": 22,
   "metadata": {},
   "outputs": [
    {
     "output_type": "execute_result",
     "data": {
      "text/plain": "array([[18.324783]], dtype=float32)"
     },
     "metadata": {},
     "execution_count": 22
    }
   ],
   "source": [
    "model.predict(np.reshape(X_valid[42], [1, 13]))"
   ]
  }
 ],
 "metadata": {
  "language_info": {
   "codemirror_mode": {
    "name": "ipython",
    "version": 3
   },
   "file_extension": ".py",
   "mimetype": "text/x-python",
   "name": "python",
   "nbconvert_exporter": "python",
   "pygments_lexer": "ipython3",
   "version": "3.8.3-final"
  },
  "orig_nbformat": 2,
  "kernelspec": {
   "name": "python38364bitc8778b5367444c3b9b18e1e94c77143f",
   "display_name": "Python 3.8.3 64-bit"
  }
 },
 "nbformat": 4,
 "nbformat_minor": 2
}