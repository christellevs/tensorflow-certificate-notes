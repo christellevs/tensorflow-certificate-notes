{
 "cells": [
  {
   "cell_type": "code",
   "execution_count": 30,
   "metadata": {},
   "outputs": [],
   "source": [
    "# regression example in tensorflow\n",
    "\n",
    "# predicting house prices in Boston, Massachussetts"
   ]
  },
  {
   "cell_type": "code",
   "execution_count": 31,
   "metadata": {},
   "outputs": [],
   "source": [
    "import tensorflow\n",
    "\n",
    "from tensorflow.keras.datasets import boston_housing\n",
    "from tensorflow.keras.models import Sequential\n",
    "from tensorflow.keras.layers import Dense, Dropout, BatchNormalization\n",
    "from tensorflow.keras.callbacks import ModelCheckpoint\n",
    "from tensorflow.keras.callbacks import TensorBoard\n",
    "\n",
    "import numpy as np\n",
    "import os"
   ]
  },
  {
   "cell_type": "code",
   "execution_count": 32,
   "metadata": {
    "tags": []
   },
   "outputs": [],
   "source": [
    "# loading data\n",
    "\n",
    "(X_train, y_train), (X_valid, y_valid) = boston_housing.load_data()"
   ]
  },
  {
   "cell_type": "code",
   "execution_count": 33,
   "metadata": {},
   "outputs": [
    {
     "output_type": "execute_result",
     "data": {
      "text/plain": "(404, 13)"
     },
     "metadata": {},
     "execution_count": 33
    }
   ],
   "source": [
    "X_train.shape"
   ]
  },
  {
   "cell_type": "code",
   "execution_count": 34,
   "metadata": {},
   "outputs": [
    {
     "output_type": "execute_result",
     "data": {
      "text/plain": "(102, 13)"
     },
     "metadata": {},
     "execution_count": 34
    }
   ],
   "source": [
    "X_valid.shape"
   ]
  },
  {
   "cell_type": "code",
   "execution_count": 35,
   "metadata": {},
   "outputs": [
    {
     "output_type": "execute_result",
     "data": {
      "text/plain": "array([  1.23247,   0.     ,   8.14   ,   0.     ,   0.538  ,   6.142  ,\n        91.7    ,   3.9769 ,   4.     , 307.     ,  21.     , 396.9    ,\n        18.72   ])"
     },
     "metadata": {},
     "execution_count": 35
    }
   ],
   "source": [
    "X_train[0]"
   ]
  },
  {
   "cell_type": "code",
   "execution_count": 36,
   "metadata": {},
   "outputs": [
    {
     "output_type": "execute_result",
     "data": {
      "text/plain": "15.2"
     },
     "metadata": {},
     "execution_count": 36
    }
   ],
   "source": [
    "y_train[0]"
   ]
  },
  {
   "cell_type": "code",
   "execution_count": 37,
   "metadata": {},
   "outputs": [],
   "source": [
    "# designing neural netwrok architecture\n",
    "\n",
    "model = Sequential()\n",
    "\n",
    "# 2 hidden layer architectre, 32 and 16 neurons per layer respectively\n",
    "\n",
    "# first hidden layer\n",
    "model.add(Dense(32, input_dim=13, activation='relu'))\n",
    "model.add(BatchNormalization())\n",
    "\n",
    "# second hidden layer\n",
    "model.add(Dense(16, activation='relu'))\n",
    "model.add(BatchNormalization())\n",
    "model.add(Dropout(0.5))\n",
    "\n",
    "# output layer\n",
    "model.add(Dense(1, activation='linear'))"
   ]
  },
  {
   "cell_type": "code",
   "execution_count": 38,
   "metadata": {
    "tags": []
   },
   "outputs": [
    {
     "output_type": "stream",
     "name": "stdout",
     "text": "Model: \"sequential_2\"\n_________________________________________________________________\nLayer (type)                 Output Shape              Param #   \n=================================================================\ndense_6 (Dense)              (None, 32)                448       \n_________________________________________________________________\nbatch_normalization_4 (Batch (None, 32)                128       \n_________________________________________________________________\ndense_7 (Dense)              (None, 16)                528       \n_________________________________________________________________\nbatch_normalization_5 (Batch (None, 16)                64        \n_________________________________________________________________\ndropout_2 (Dropout)          (None, 16)                0         \n_________________________________________________________________\ndense_8 (Dense)              (None, 1)                 17        \n=================================================================\nTotal params: 1,185\nTrainable params: 1,089\nNon-trainable params: 96\n_________________________________________________________________\n"
    }
   ],
   "source": [
    "model.summary()"
   ]
  },
  {
   "cell_type": "code",
   "execution_count": 39,
   "metadata": {},
   "outputs": [],
   "source": [
    "# configuring model\n",
    "\n",
    "model.compile(loss='mean_squared_error', optimizer='nadam')"
   ]
  },
  {
   "cell_type": "code",
   "execution_count": 40,
   "metadata": {},
   "outputs": [],
   "source": [
    "output_dir = 'model_output/'"
   ]
  },
  {
   "cell_type": "code",
   "execution_count": 41,
   "metadata": {},
   "outputs": [],
   "source": [
    "run_name = 'regression_drop50'\n",
    "output_path = output_dir + run_name"
   ]
  },
  {
   "cell_type": "code",
   "execution_count": 42,
   "metadata": {},
   "outputs": [],
   "source": [
    "if not os.path.exists(output_path):\n",
    "    os.makedirs(output_path)"
   ]
  },
  {
   "cell_type": "code",
   "execution_count": 43,
   "metadata": {},
   "outputs": [],
   "source": [
    "modelcheckpoint = ModelCheckpoint(output_path + '/weights.{epoch:02d}.hdf5', save_weights_only=True)"
   ]
  },
  {
   "cell_type": "code",
   "execution_count": 44,
   "metadata": {},
   "outputs": [],
   "source": [
    "tensorboard = TensorBoard(log_dir='logs/' + run_name)"
   ]
  },
  {
   "cell_type": "code",
   "execution_count": 45,
   "metadata": {
    "tags": []
   },
   "outputs": [
    {
     "output_type": "stream",
     "name": "stdout",
     "text": "Epoch 1/32\n 2/51 [>.............................] - ETA: 45s - loss: 651.7534WARNING:tensorflow:Method (on_train_batch_end) is slow compared to the batch update (0.935524). Check your callbacks.\n51/51 [==============================] - 2s 46ms/step - loss: 575.1529 - val_loss: 559.6893\nEpoch 2/32\n51/51 [==============================] - 0s 6ms/step - loss: 559.3876 - val_loss: 584.5728\nEpoch 3/32\n51/51 [==============================] - 0s 6ms/step - loss: 538.6675 - val_loss: 568.6003\nEpoch 4/32\n51/51 [==============================] - 0s 6ms/step - loss: 525.2243 - val_loss: 555.7367\nEpoch 5/32\n51/51 [==============================] - 0s 8ms/step - loss: 506.2468 - val_loss: 527.2971\nEpoch 6/32\n51/51 [==============================] - 0s 5ms/step - loss: 481.5103 - val_loss: 509.6718\nEpoch 7/32\n51/51 [==============================] - ETA: 0s - loss: 463.37751/51 [==============================] - 0s 6ms/step - loss: 463.3778 - val_loss: 500.8777\nEpoch 8/32\n51/51 [==============================] - 0s 7ms/step - loss: 427.8209 - val_loss: 431.9481\nEpoch 9/32\n51/51 [==============================] - 0s 6ms/step - loss: 397.4454 - val_loss: 377.5272\nEpoch 10/32\n51/51 [==============================] - 0s 6ms/step - loss: 378.3260 - val_loss: 429.5145\nEpoch 11/32\n51/51 [==============================] - 0s 6ms/step - loss: 334.3189 - val_loss: 440.2208\nEpoch 12/32\n51/51 [==============================] - 0s 7ms/step - loss: 297.0457 - val_loss: 359.3050\nEpoch 13/32\n51/51 [==============================] - 0s 7ms/step - loss: 272.5629 - val_loss: 326.5468\nEpoch 14/32\n51/51 [==============================] - 0s 8ms/step - loss: 240.4754 - val_loss: 277.8999\nEpoch 15/32\n51/51 [==============================] - 0s 5ms/step - loss: 208.7276 - val_loss: 235.9056\nEpoch 16/32\n51/51 [==============================] - 0s 5ms/step - loss: 182.3134 - val_loss: 202.8934\nEpoch 17/32\n51/51 [==============================] - 0s 7ms/step - loss: 165.6244 - val_loss: 186.4439\nEpoch 18/32\n51/51 [==============================] - 0s 7ms/step - loss: 152.0502 - val_loss: 85.8553\nEpoch 19/32\n51/51 [==============================] - 0s 6ms/step - loss: 129.0706 - val_loss: 128.7168\nEpoch 20/32\n51/51 [==============================] - 0s 6ms/step - loss: 108.9266 - val_loss: 79.2205\nEpoch 21/32\n51/51 [==============================] - 0s 7ms/step - loss: 101.4747 - val_loss: 134.0303\nEpoch 22/32\n51/51 [==============================] - 0s 5ms/step - loss: 100.6897 - val_loss: 135.5410\nEpoch 23/32\n51/51 [==============================] - 0s 7ms/step - loss: 89.0787 - val_loss: 123.9591\nEpoch 24/32\n51/51 [==============================] - 0s 6ms/step - loss: 92.7620 - val_loss: 81.5933\nEpoch 25/32\n51/51 [==============================] - 0s 5ms/step - loss: 88.3155 - val_loss: 93.5629\nEpoch 26/32\n51/51 [==============================] - 0s 6ms/step - loss: 78.2599 - val_loss: 57.4106\nEpoch 27/32\n51/51 [==============================] - 0s 7ms/step - loss: 75.3728 - val_loss: 39.9708\nEpoch 28/32\n51/51 [==============================] - 0s 5ms/step - loss: 78.6232 - val_loss: 26.7243\nEpoch 29/32\n51/51 [==============================] - 0s 9ms/step - loss: 75.4756 - val_loss: 46.4028\nEpoch 30/32\n51/51 [==============================] - 0s 8ms/step - loss: 86.9201 - val_loss: 25.3409\nEpoch 31/32\n51/51 [==============================] - 0s 8ms/step - loss: 76.8607 - val_loss: 31.1649\nEpoch 32/32\n51/51 [==============================] - 0s 7ms/step - loss: 76.1468 - val_loss: 29.2195\n"
    },
    {
     "output_type": "execute_result",
     "data": {
      "text/plain": "<tensorflow.python.keras.callbacks.History at 0x2eb3bb779a0>"
     },
     "metadata": {},
     "execution_count": 45
    }
   ],
   "source": [
    "# training model\n",
    "\n",
    "model.fit(X_train, y_train,\n",
    "    batch_size=8, epochs=32, verbose=1,\n",
    "    validation_data=(X_valid, y_valid),\n",
    "    callbacks=[modelcheckpoint, tensorboard]) # val loss below 50 isgood, 40 great"
   ]
  },
  {
   "cell_type": "code",
   "execution_count": 46,
   "metadata": {},
   "outputs": [],
   "source": [
    "# performing inference\n",
    "\n",
    "model.load_weights(output_path + '/weights.29.hdf5')"
   ]
  },
  {
   "cell_type": "code",
   "execution_count": 47,
   "metadata": {},
   "outputs": [
    {
     "output_type": "execute_result",
     "data": {
      "text/plain": "array([  9.32909,   0.     ,  18.1    ,   0.     ,   0.713  ,   6.185  ,\n        98.7    ,   2.2616 ,  24.     , 666.     ,  20.2    , 396.9    ,\n        18.13   ])"
     },
     "metadata": {},
     "execution_count": 47
    }
   ],
   "source": [
    "X_valid[42]"
   ]
  },
  {
   "cell_type": "code",
   "execution_count": 48,
   "metadata": {},
   "outputs": [
    {
     "output_type": "execute_result",
     "data": {
      "text/plain": "14.1"
     },
     "metadata": {},
     "execution_count": 48
    }
   ],
   "source": [
    "y_valid[42]"
   ]
  },
  {
   "cell_type": "code",
   "execution_count": 49,
   "metadata": {},
   "outputs": [
    {
     "output_type": "execute_result",
     "data": {
      "text/plain": "array([[26.655945]], dtype=float32)"
     },
     "metadata": {},
     "execution_count": 49
    }
   ],
   "source": [
    "model.predict(np.reshape(X_valid[42], [1, 13]))"
   ]
  }
 ],
 "metadata": {
  "language_info": {
   "codemirror_mode": {
    "name": "ipython",
    "version": 3
   },
   "file_extension": ".py",
   "mimetype": "text/x-python",
   "name": "python",
   "nbconvert_exporter": "python",
   "pygments_lexer": "ipython3",
   "version": "3.8.3-final"
  },
  "orig_nbformat": 2,
  "kernelspec": {
   "name": "python38364bitc8778b5367444c3b9b18e1e94c77143f",
   "display_name": "Python 3.8.3 64-bit"
  }
 },
 "nbformat": 4,
 "nbformat_minor": 2
}